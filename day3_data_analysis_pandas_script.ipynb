{
  "cells": [
    {
      "cell_type": "markdown",
      "metadata": {
        "id": "view-in-github",
        "colab_type": "text"
      },
      "source": [
        "<a href=\"https://colab.research.google.com/github/YemiAtta/Wealthy_Nations-Excel-Tableau/blob/main/day3_data_analysis_pandas_script.ipynb\" target=\"_parent\"><img src=\"https://colab.research.google.com/assets/colab-badge.svg\" alt=\"Open In Colab\"/></a>"
      ]
    },
    {
      "cell_type": "markdown",
      "metadata": {
        "id": "cE6vUuVR1_JY"
      },
      "source": [
        "## Flight delays- Data Exploration and Analysis with Pandas"
      ]
    },
    {
      "cell_type": "markdown",
      "metadata": {
        "id": "5B064FgO1_JZ"
      },
      "source": [
        "Problem: Our dataset contains data from the Bureau of the United States of transportation about the arrival, delay, and cancellation of domestic flights from July 2019 to July 2022. We will investigate and highlight which airlines and airports have the most delay and cancellation over time. We will also analyse the causes of the delays and cancellation."
      ]
    },
    {
      "cell_type": "markdown",
      "metadata": {
        "id": "t50Q9sad1_Ja"
      },
      "source": [
        "## 1-Data Exploration\n",
        "The first step of any data analysis is to explore your data with key Pandas commands:"
      ]
    },
    {
      "cell_type": "markdown",
      "metadata": {
        "id": "B9h9M08I1_Ja"
      },
      "source": [
        "Import the Pandas library only onced in your script:\n"
      ]
    },
    {
      "cell_type": "code",
      "execution_count": null,
      "metadata": {
        "id": "W1AtqTOc1_Jb"
      },
      "outputs": [],
      "source": [
        "#put you code below:\n",
        "import pandas as pd"
      ]
    },
    {
      "cell_type": "markdown",
      "metadata": {
        "id": "FB68kjIg1_Jb"
      },
      "source": [
        "The dataset has 3 CSV files, let's import them all one by one, named them df1 to df3:"
      ]
    },
    {
      "cell_type": "code",
      "execution_count": null,
      "metadata": {
        "id": "M12ip_9I1_Jc"
      },
      "outputs": [],
      "source": [
        "#put you code below:\n",
        "df1 = pd.read_csv(\"Flights_Delay_Cause_2019-2020.csv\")\n",
        "df2 = pd.read_csv(\"Flights_Delay_Cause_2020-2021.csv\")\n",
        "df3 = pd.read_csv(\"Flights_Delay_Cause_2021-2022.csv\")"
      ]
    },
    {
      "cell_type": "markdown",
      "metadata": {
        "id": "P_8cLhSj1_Jc"
      },
      "source": [
        "The dataset contains data from US domestic flights from July 2019 to July 2022, and consists of the following fields:\n",
        "\n",
        "- year: the year of the flight\n",
        "- month: the month of the flight\n",
        "- carrier: the 2 letters abbreviation for the airline\n",
        "- carrier_name: the complete name of the airline\n",
        "- airport: the 3 letters Airport code\n",
        "- airport_name: the airport full name\n",
        "- arr_flights: number of arrived flights ontime\n",
        "- arr_del15: number of delayed flights (flights are considered delayed after 15 minutes of the arrival time)\n",
        "- arr_cancelled: number of cancelled flights\n",
        "- arr_diverted: number of diverted flights\n",
        "- arr_delay: number of delayed flights\n",
        "- carrier_delay: number of flights delayed caused by the carrier\n",
        "- weather_delay: number of flights delayed caused by the weather\n",
        "- nas_delay: number of flighst delayed caused by the National Aviation System\n",
        "- security_delay: number of flights delayed due to security issues\n"
      ]
    },
    {
      "cell_type": "markdown",
      "metadata": {
        "id": "Eao4_qFc1_Jc"
      },
      "source": [
        "Let's explore the 5 first rows of the dataframe named df1:\n"
      ]
    },
    {
      "cell_type": "code",
      "execution_count": null,
      "metadata": {
        "id": "j2yLYonp1_Jd",
        "outputId": "f032aa6e-8af5-4fbb-9b19-091aa6b7aaa7",
        "colab": {
          "base_uri": "https://localhost:8080/",
          "height": 313
        }
      },
      "outputs": [
        {
          "output_type": "execute_result",
          "data": {
            "text/plain": [
              "   year  month carrier       carrier_name airport  \\\n",
              "0  2022      7      9E  Endeavor Air Inc.     ABE   \n",
              "1  2022      7      9E  Endeavor Air Inc.     ABY   \n",
              "2  2022      7      9E  Endeavor Air Inc.     ACK   \n",
              "3  2022      7      9E  Endeavor Air Inc.     AEX   \n",
              "4  2022      7      9E  Endeavor Air Inc.     AGS   \n",
              "\n",
              "                                        airport_name  arr_flights  arr_del15  \\\n",
              "0  Allentown/Bethlehem/Easton, PA: Lehigh Valley ...         33.0        2.0   \n",
              "1             Albany, GA: Southwest Georgia Regional         78.0       25.0   \n",
              "2                  Nantucket, MA: Nantucket Memorial        124.0       19.0   \n",
              "3           Alexandria, LA: Alexandria International         67.0       10.0   \n",
              "4        Augusta, GA: Augusta Regional at Bush Field        174.0       30.0   \n",
              "\n",
              "   arr_cancelled  arr_diverted  arr_delay  carrier_delay  weather_delay  \\\n",
              "0            0.0           0.0      129.0           98.0           23.0   \n",
              "1            0.0           0.0     1664.0          887.0           52.0   \n",
              "2            5.0           4.0     1523.0          388.0           35.0   \n",
              "3            0.0           1.0      657.0          103.0           82.0   \n",
              "4            1.0           0.0     2462.0         1686.0          310.0   \n",
              "\n",
              "   nas_delay  security_delay  \n",
              "0        8.0             0.0  \n",
              "1      224.0             0.0  \n",
              "2      511.0             0.0  \n",
              "3       93.0            25.0  \n",
              "4      139.0             0.0  "
            ],
            "text/html": [
              "\n",
              "  <div id=\"df-75de8082-a187-4395-b911-2844d4470477\" class=\"colab-df-container\">\n",
              "    <div>\n",
              "<style scoped>\n",
              "    .dataframe tbody tr th:only-of-type {\n",
              "        vertical-align: middle;\n",
              "    }\n",
              "\n",
              "    .dataframe tbody tr th {\n",
              "        vertical-align: top;\n",
              "    }\n",
              "\n",
              "    .dataframe thead th {\n",
              "        text-align: right;\n",
              "    }\n",
              "</style>\n",
              "<table border=\"1\" class=\"dataframe\">\n",
              "  <thead>\n",
              "    <tr style=\"text-align: right;\">\n",
              "      <th></th>\n",
              "      <th>year</th>\n",
              "      <th>month</th>\n",
              "      <th>carrier</th>\n",
              "      <th>carrier_name</th>\n",
              "      <th>airport</th>\n",
              "      <th>airport_name</th>\n",
              "      <th>arr_flights</th>\n",
              "      <th>arr_del15</th>\n",
              "      <th>arr_cancelled</th>\n",
              "      <th>arr_diverted</th>\n",
              "      <th>arr_delay</th>\n",
              "      <th>carrier_delay</th>\n",
              "      <th>weather_delay</th>\n",
              "      <th>nas_delay</th>\n",
              "      <th>security_delay</th>\n",
              "    </tr>\n",
              "  </thead>\n",
              "  <tbody>\n",
              "    <tr>\n",
              "      <th>0</th>\n",
              "      <td>2022</td>\n",
              "      <td>7</td>\n",
              "      <td>9E</td>\n",
              "      <td>Endeavor Air Inc.</td>\n",
              "      <td>ABE</td>\n",
              "      <td>Allentown/Bethlehem/Easton, PA: Lehigh Valley ...</td>\n",
              "      <td>33.0</td>\n",
              "      <td>2.0</td>\n",
              "      <td>0.0</td>\n",
              "      <td>0.0</td>\n",
              "      <td>129.0</td>\n",
              "      <td>98.0</td>\n",
              "      <td>23.0</td>\n",
              "      <td>8.0</td>\n",
              "      <td>0.0</td>\n",
              "    </tr>\n",
              "    <tr>\n",
              "      <th>1</th>\n",
              "      <td>2022</td>\n",
              "      <td>7</td>\n",
              "      <td>9E</td>\n",
              "      <td>Endeavor Air Inc.</td>\n",
              "      <td>ABY</td>\n",
              "      <td>Albany, GA: Southwest Georgia Regional</td>\n",
              "      <td>78.0</td>\n",
              "      <td>25.0</td>\n",
              "      <td>0.0</td>\n",
              "      <td>0.0</td>\n",
              "      <td>1664.0</td>\n",
              "      <td>887.0</td>\n",
              "      <td>52.0</td>\n",
              "      <td>224.0</td>\n",
              "      <td>0.0</td>\n",
              "    </tr>\n",
              "    <tr>\n",
              "      <th>2</th>\n",
              "      <td>2022</td>\n",
              "      <td>7</td>\n",
              "      <td>9E</td>\n",
              "      <td>Endeavor Air Inc.</td>\n",
              "      <td>ACK</td>\n",
              "      <td>Nantucket, MA: Nantucket Memorial</td>\n",
              "      <td>124.0</td>\n",
              "      <td>19.0</td>\n",
              "      <td>5.0</td>\n",
              "      <td>4.0</td>\n",
              "      <td>1523.0</td>\n",
              "      <td>388.0</td>\n",
              "      <td>35.0</td>\n",
              "      <td>511.0</td>\n",
              "      <td>0.0</td>\n",
              "    </tr>\n",
              "    <tr>\n",
              "      <th>3</th>\n",
              "      <td>2022</td>\n",
              "      <td>7</td>\n",
              "      <td>9E</td>\n",
              "      <td>Endeavor Air Inc.</td>\n",
              "      <td>AEX</td>\n",
              "      <td>Alexandria, LA: Alexandria International</td>\n",
              "      <td>67.0</td>\n",
              "      <td>10.0</td>\n",
              "      <td>0.0</td>\n",
              "      <td>1.0</td>\n",
              "      <td>657.0</td>\n",
              "      <td>103.0</td>\n",
              "      <td>82.0</td>\n",
              "      <td>93.0</td>\n",
              "      <td>25.0</td>\n",
              "    </tr>\n",
              "    <tr>\n",
              "      <th>4</th>\n",
              "      <td>2022</td>\n",
              "      <td>7</td>\n",
              "      <td>9E</td>\n",
              "      <td>Endeavor Air Inc.</td>\n",
              "      <td>AGS</td>\n",
              "      <td>Augusta, GA: Augusta Regional at Bush Field</td>\n",
              "      <td>174.0</td>\n",
              "      <td>30.0</td>\n",
              "      <td>1.0</td>\n",
              "      <td>0.0</td>\n",
              "      <td>2462.0</td>\n",
              "      <td>1686.0</td>\n",
              "      <td>310.0</td>\n",
              "      <td>139.0</td>\n",
              "      <td>0.0</td>\n",
              "    </tr>\n",
              "  </tbody>\n",
              "</table>\n",
              "</div>\n",
              "    <div class=\"colab-df-buttons\">\n",
              "\n",
              "  <div class=\"colab-df-container\">\n",
              "    <button class=\"colab-df-convert\" onclick=\"convertToInteractive('df-75de8082-a187-4395-b911-2844d4470477')\"\n",
              "            title=\"Convert this dataframe to an interactive table.\"\n",
              "            style=\"display:none;\">\n",
              "\n",
              "  <svg xmlns=\"http://www.w3.org/2000/svg\" height=\"24px\" viewBox=\"0 -960 960 960\">\n",
              "    <path d=\"M120-120v-720h720v720H120Zm60-500h600v-160H180v160Zm220 220h160v-160H400v160Zm0 220h160v-160H400v160ZM180-400h160v-160H180v160Zm440 0h160v-160H620v160ZM180-180h160v-160H180v160Zm440 0h160v-160H620v160Z\"/>\n",
              "  </svg>\n",
              "    </button>\n",
              "\n",
              "  <style>\n",
              "    .colab-df-container {\n",
              "      display:flex;\n",
              "      gap: 12px;\n",
              "    }\n",
              "\n",
              "    .colab-df-convert {\n",
              "      background-color: #E8F0FE;\n",
              "      border: none;\n",
              "      border-radius: 50%;\n",
              "      cursor: pointer;\n",
              "      display: none;\n",
              "      fill: #1967D2;\n",
              "      height: 32px;\n",
              "      padding: 0 0 0 0;\n",
              "      width: 32px;\n",
              "    }\n",
              "\n",
              "    .colab-df-convert:hover {\n",
              "      background-color: #E2EBFA;\n",
              "      box-shadow: 0px 1px 2px rgba(60, 64, 67, 0.3), 0px 1px 3px 1px rgba(60, 64, 67, 0.15);\n",
              "      fill: #174EA6;\n",
              "    }\n",
              "\n",
              "    .colab-df-buttons div {\n",
              "      margin-bottom: 4px;\n",
              "    }\n",
              "\n",
              "    [theme=dark] .colab-df-convert {\n",
              "      background-color: #3B4455;\n",
              "      fill: #D2E3FC;\n",
              "    }\n",
              "\n",
              "    [theme=dark] .colab-df-convert:hover {\n",
              "      background-color: #434B5C;\n",
              "      box-shadow: 0px 1px 3px 1px rgba(0, 0, 0, 0.15);\n",
              "      filter: drop-shadow(0px 1px 2px rgba(0, 0, 0, 0.3));\n",
              "      fill: #FFFFFF;\n",
              "    }\n",
              "  </style>\n",
              "\n",
              "    <script>\n",
              "      const buttonEl =\n",
              "        document.querySelector('#df-75de8082-a187-4395-b911-2844d4470477 button.colab-df-convert');\n",
              "      buttonEl.style.display =\n",
              "        google.colab.kernel.accessAllowed ? 'block' : 'none';\n",
              "\n",
              "      async function convertToInteractive(key) {\n",
              "        const element = document.querySelector('#df-75de8082-a187-4395-b911-2844d4470477');\n",
              "        const dataTable =\n",
              "          await google.colab.kernel.invokeFunction('convertToInteractive',\n",
              "                                                    [key], {});\n",
              "        if (!dataTable) return;\n",
              "\n",
              "        const docLinkHtml = 'Like what you see? Visit the ' +\n",
              "          '<a target=\"_blank\" href=https://colab.research.google.com/notebooks/data_table.ipynb>data table notebook</a>'\n",
              "          + ' to learn more about interactive tables.';\n",
              "        element.innerHTML = '';\n",
              "        dataTable['output_type'] = 'display_data';\n",
              "        await google.colab.output.renderOutput(dataTable, element);\n",
              "        const docLink = document.createElement('div');\n",
              "        docLink.innerHTML = docLinkHtml;\n",
              "        element.appendChild(docLink);\n",
              "      }\n",
              "    </script>\n",
              "  </div>\n",
              "\n",
              "\n",
              "<div id=\"df-fb80818c-09f1-4470-83d0-aceb44ba47cb\">\n",
              "  <button class=\"colab-df-quickchart\" onclick=\"quickchart('df-fb80818c-09f1-4470-83d0-aceb44ba47cb')\"\n",
              "            title=\"Suggest charts\"\n",
              "            style=\"display:none;\">\n",
              "\n",
              "<svg xmlns=\"http://www.w3.org/2000/svg\" height=\"24px\"viewBox=\"0 0 24 24\"\n",
              "     width=\"24px\">\n",
              "    <g>\n",
              "        <path d=\"M19 3H5c-1.1 0-2 .9-2 2v14c0 1.1.9 2 2 2h14c1.1 0 2-.9 2-2V5c0-1.1-.9-2-2-2zM9 17H7v-7h2v7zm4 0h-2V7h2v10zm4 0h-2v-4h2v4z\"/>\n",
              "    </g>\n",
              "</svg>\n",
              "  </button>\n",
              "\n",
              "<style>\n",
              "  .colab-df-quickchart {\n",
              "      --bg-color: #E8F0FE;\n",
              "      --fill-color: #1967D2;\n",
              "      --hover-bg-color: #E2EBFA;\n",
              "      --hover-fill-color: #174EA6;\n",
              "      --disabled-fill-color: #AAA;\n",
              "      --disabled-bg-color: #DDD;\n",
              "  }\n",
              "\n",
              "  [theme=dark] .colab-df-quickchart {\n",
              "      --bg-color: #3B4455;\n",
              "      --fill-color: #D2E3FC;\n",
              "      --hover-bg-color: #434B5C;\n",
              "      --hover-fill-color: #FFFFFF;\n",
              "      --disabled-bg-color: #3B4455;\n",
              "      --disabled-fill-color: #666;\n",
              "  }\n",
              "\n",
              "  .colab-df-quickchart {\n",
              "    background-color: var(--bg-color);\n",
              "    border: none;\n",
              "    border-radius: 50%;\n",
              "    cursor: pointer;\n",
              "    display: none;\n",
              "    fill: var(--fill-color);\n",
              "    height: 32px;\n",
              "    padding: 0;\n",
              "    width: 32px;\n",
              "  }\n",
              "\n",
              "  .colab-df-quickchart:hover {\n",
              "    background-color: var(--hover-bg-color);\n",
              "    box-shadow: 0 1px 2px rgba(60, 64, 67, 0.3), 0 1px 3px 1px rgba(60, 64, 67, 0.15);\n",
              "    fill: var(--button-hover-fill-color);\n",
              "  }\n",
              "\n",
              "  .colab-df-quickchart-complete:disabled,\n",
              "  .colab-df-quickchart-complete:disabled:hover {\n",
              "    background-color: var(--disabled-bg-color);\n",
              "    fill: var(--disabled-fill-color);\n",
              "    box-shadow: none;\n",
              "  }\n",
              "\n",
              "  .colab-df-spinner {\n",
              "    border: 2px solid var(--fill-color);\n",
              "    border-color: transparent;\n",
              "    border-bottom-color: var(--fill-color);\n",
              "    animation:\n",
              "      spin 1s steps(1) infinite;\n",
              "  }\n",
              "\n",
              "  @keyframes spin {\n",
              "    0% {\n",
              "      border-color: transparent;\n",
              "      border-bottom-color: var(--fill-color);\n",
              "      border-left-color: var(--fill-color);\n",
              "    }\n",
              "    20% {\n",
              "      border-color: transparent;\n",
              "      border-left-color: var(--fill-color);\n",
              "      border-top-color: var(--fill-color);\n",
              "    }\n",
              "    30% {\n",
              "      border-color: transparent;\n",
              "      border-left-color: var(--fill-color);\n",
              "      border-top-color: var(--fill-color);\n",
              "      border-right-color: var(--fill-color);\n",
              "    }\n",
              "    40% {\n",
              "      border-color: transparent;\n",
              "      border-right-color: var(--fill-color);\n",
              "      border-top-color: var(--fill-color);\n",
              "    }\n",
              "    60% {\n",
              "      border-color: transparent;\n",
              "      border-right-color: var(--fill-color);\n",
              "    }\n",
              "    80% {\n",
              "      border-color: transparent;\n",
              "      border-right-color: var(--fill-color);\n",
              "      border-bottom-color: var(--fill-color);\n",
              "    }\n",
              "    90% {\n",
              "      border-color: transparent;\n",
              "      border-bottom-color: var(--fill-color);\n",
              "    }\n",
              "  }\n",
              "</style>\n",
              "\n",
              "  <script>\n",
              "    async function quickchart(key) {\n",
              "      const quickchartButtonEl =\n",
              "        document.querySelector('#' + key + ' button');\n",
              "      quickchartButtonEl.disabled = true;  // To prevent multiple clicks.\n",
              "      quickchartButtonEl.classList.add('colab-df-spinner');\n",
              "      try {\n",
              "        const charts = await google.colab.kernel.invokeFunction(\n",
              "            'suggestCharts', [key], {});\n",
              "      } catch (error) {\n",
              "        console.error('Error during call to suggestCharts:', error);\n",
              "      }\n",
              "      quickchartButtonEl.classList.remove('colab-df-spinner');\n",
              "      quickchartButtonEl.classList.add('colab-df-quickchart-complete');\n",
              "    }\n",
              "    (() => {\n",
              "      let quickchartButtonEl =\n",
              "        document.querySelector('#df-fb80818c-09f1-4470-83d0-aceb44ba47cb button');\n",
              "      quickchartButtonEl.style.display =\n",
              "        google.colab.kernel.accessAllowed ? 'block' : 'none';\n",
              "    })();\n",
              "  </script>\n",
              "</div>\n",
              "    </div>\n",
              "  </div>\n"
            ],
            "application/vnd.google.colaboratory.intrinsic+json": {
              "type": "dataframe",
              "variable_name": "df1",
              "summary": "{\n  \"name\": \"df1\",\n  \"rows\": 1680,\n  \"fields\": [\n    {\n      \"column\": \"year\",\n      \"properties\": {\n        \"dtype\": \"number\",\n        \"std\": 0,\n        \"min\": 2022,\n        \"max\": 2022,\n        \"num_unique_values\": 1,\n        \"samples\": [\n          2022\n        ],\n        \"semantic_type\": \"\",\n        \"description\": \"\"\n      }\n    },\n    {\n      \"column\": \"month\",\n      \"properties\": {\n        \"dtype\": \"number\",\n        \"std\": 0,\n        \"min\": 7,\n        \"max\": 7,\n        \"num_unique_values\": 1,\n        \"samples\": [\n          7\n        ],\n        \"semantic_type\": \"\",\n        \"description\": \"\"\n      }\n    },\n    {\n      \"column\": \"carrier\",\n      \"properties\": {\n        \"dtype\": \"category\",\n        \"num_unique_values\": 17,\n        \"samples\": [\n          \"9E\"\n        ],\n        \"semantic_type\": \"\",\n        \"description\": \"\"\n      }\n    },\n    {\n      \"column\": \"carrier_name\",\n      \"properties\": {\n        \"dtype\": \"category\",\n        \"num_unique_values\": 17,\n        \"samples\": [\n          \"Endeavor Air Inc.\"\n        ],\n        \"semantic_type\": \"\",\n        \"description\": \"\"\n      }\n    },\n    {\n      \"column\": \"airport\",\n      \"properties\": {\n        \"dtype\": \"category\",\n        \"num_unique_values\": 358,\n        \"samples\": [\n          \"MOT\"\n        ],\n        \"semantic_type\": \"\",\n        \"description\": \"\"\n      }\n    },\n    {\n      \"column\": \"airport_name\",\n      \"properties\": {\n        \"dtype\": \"category\",\n        \"num_unique_values\": 358,\n        \"samples\": [\n          \"Minot, ND: Minot International\"\n        ],\n        \"semantic_type\": \"\",\n        \"description\": \"\"\n      }\n    },\n    {\n      \"column\": \"arr_flights\",\n      \"properties\": {\n        \"dtype\": \"number\",\n        \"std\": 975.130438684913,\n        \"min\": 1.0,\n        \"max\": 18388.0,\n        \"num_unique_values\": 547,\n        \"samples\": [\n          45.0\n        ],\n        \"semantic_type\": \"\",\n        \"description\": \"\"\n      }\n    },\n    {\n      \"column\": \"arr_del15\",\n      \"properties\": {\n        \"dtype\": \"number\",\n        \"std\": 222.66319846276625,\n        \"min\": 0.0,\n        \"max\": 3479.0,\n        \"num_unique_values\": 296,\n        \"samples\": [\n          269.0\n        ],\n        \"semantic_type\": \"\",\n        \"description\": \"\"\n      }\n    },\n    {\n      \"column\": \"arr_cancelled\",\n      \"properties\": {\n        \"dtype\": \"number\",\n        \"std\": 22.82160320837602,\n        \"min\": 0.0,\n        \"max\": 385.0,\n        \"num_unique_values\": 82,\n        \"samples\": [\n          4.0\n        ],\n        \"semantic_type\": \"\",\n        \"description\": \"\"\n      }\n    },\n    {\n      \"column\": \"arr_diverted\",\n      \"properties\": {\n        \"dtype\": \"number\",\n        \"std\": 4.770230377450328,\n        \"min\": 0.0,\n        \"max\": 86.0,\n        \"num_unique_values\": 32,\n        \"samples\": [\n          13.0\n        ],\n        \"semantic_type\": \"\",\n        \"description\": \"\"\n      }\n    },\n    {\n      \"column\": \"arr_delay\",\n      \"properties\": {\n        \"dtype\": \"number\",\n        \"std\": 16240.274070877409,\n        \"min\": 0.0,\n        \"max\": 259825.0,\n        \"num_unique_values\": 1409,\n        \"samples\": [\n          2749.0\n        ],\n        \"semantic_type\": \"\",\n        \"description\": \"\"\n      }\n    },\n    {\n      \"column\": \"carrier_delay\",\n      \"properties\": {\n        \"dtype\": \"number\",\n        \"std\": 6138.385679653739,\n        \"min\": 0.0,\n        \"max\": 119425.0,\n        \"num_unique_values\": 1147,\n        \"samples\": [\n          588.0\n        ],\n        \"semantic_type\": \"\",\n        \"description\": \"\"\n      }\n    },\n    {\n      \"column\": \"weather_delay\",\n      \"properties\": {\n        \"dtype\": \"number\",\n        \"std\": 1004.4817453116157,\n        \"min\": 0.0,\n        \"max\": 18116.0,\n        \"num_unique_values\": 567,\n        \"samples\": [\n          385.0\n        ],\n        \"semantic_type\": \"\",\n        \"description\": \"\"\n      }\n    },\n    {\n      \"column\": \"nas_delay\",\n      \"properties\": {\n        \"dtype\": \"number\",\n        \"std\": 2878.3830293996384,\n        \"min\": 0.0,\n        \"max\": 37919.0,\n        \"num_unique_values\": 798,\n        \"samples\": [\n          3425.0\n        ],\n        \"semantic_type\": \"\",\n        \"description\": \"\"\n      }\n    },\n    {\n      \"column\": \"security_delay\",\n      \"properties\": {\n        \"dtype\": \"number\",\n        \"std\": 103.83058786700278,\n        \"min\": 0.0,\n        \"max\": 3551.0,\n        \"num_unique_values\": 140,\n        \"samples\": [\n          234.0\n        ],\n        \"semantic_type\": \"\",\n        \"description\": \"\"\n      }\n    }\n  ]\n}"
            }
          },
          "metadata": {},
          "execution_count": 24
        }
      ],
      "source": [
        "#put you code below:\n",
        "df1.head()"
      ]
    },
    {
      "cell_type": "markdown",
      "metadata": {
        "id": "Jy5z7hNT1_Jd"
      },
      "source": [
        "Similarly, explore the 5 last rows of df1:"
      ]
    },
    {
      "cell_type": "code",
      "execution_count": null,
      "metadata": {
        "id": "Kadjq8cx1_Je",
        "outputId": "06d2fa85-f30a-4483-bba7-bcb039dc697e",
        "colab": {
          "base_uri": "https://localhost:8080/",
          "height": 451
        }
      },
      "outputs": [
        {
          "output_type": "execute_result",
          "data": {
            "text/plain": [
              "      year  month carrier      carrier_name airport  \\\n",
              "1675  2022      7      YX  Republic Airline     STL   \n",
              "1676  2022      7      YX  Republic Airline     SYR   \n",
              "1677  2022      7      YX  Republic Airline     TUL   \n",
              "1678  2022      7      YX  Republic Airline     TVC   \n",
              "1679  2022      7      YX  Republic Airline     XNA   \n",
              "\n",
              "                                       airport_name  arr_flights  arr_del15  \\\n",
              "1675  St. Louis, MO: St Louis Lambert International        131.0       26.0   \n",
              "1676   Syracuse, NY: Syracuse Hancock International        149.0       35.0   \n",
              "1677                 Tulsa, OK: Tulsa International         10.0        2.0   \n",
              "1678              Traverse City, MI: Cherry Capital         98.0       13.0   \n",
              "1679  Fayetteville, AR: Northwest Arkansas Regional         56.0       13.0   \n",
              "\n",
              "      arr_cancelled  arr_diverted  arr_delay  carrier_delay  weather_delay  \\\n",
              "1675            6.0           0.0     2054.0          501.0          361.0   \n",
              "1676            2.0           0.0     2198.0          679.0          139.0   \n",
              "1677            0.0           0.0      135.0            8.0            0.0   \n",
              "1678            1.0           0.0      950.0          162.0            0.0   \n",
              "1679            3.0           0.0     1180.0          120.0            0.0   \n",
              "\n",
              "      nas_delay  security_delay  \n",
              "1675      298.0             0.0  \n",
              "1676      425.0             0.0  \n",
              "1677       11.0             0.0  \n",
              "1678      291.0             0.0  \n",
              "1679      318.0             0.0  "
            ],
            "text/html": [
              "\n",
              "  <div id=\"df-3bc349d6-075e-4150-bcda-ded8b7a88752\" class=\"colab-df-container\">\n",
              "    <div>\n",
              "<style scoped>\n",
              "    .dataframe tbody tr th:only-of-type {\n",
              "        vertical-align: middle;\n",
              "    }\n",
              "\n",
              "    .dataframe tbody tr th {\n",
              "        vertical-align: top;\n",
              "    }\n",
              "\n",
              "    .dataframe thead th {\n",
              "        text-align: right;\n",
              "    }\n",
              "</style>\n",
              "<table border=\"1\" class=\"dataframe\">\n",
              "  <thead>\n",
              "    <tr style=\"text-align: right;\">\n",
              "      <th></th>\n",
              "      <th>year</th>\n",
              "      <th>month</th>\n",
              "      <th>carrier</th>\n",
              "      <th>carrier_name</th>\n",
              "      <th>airport</th>\n",
              "      <th>airport_name</th>\n",
              "      <th>arr_flights</th>\n",
              "      <th>arr_del15</th>\n",
              "      <th>arr_cancelled</th>\n",
              "      <th>arr_diverted</th>\n",
              "      <th>arr_delay</th>\n",
              "      <th>carrier_delay</th>\n",
              "      <th>weather_delay</th>\n",
              "      <th>nas_delay</th>\n",
              "      <th>security_delay</th>\n",
              "    </tr>\n",
              "  </thead>\n",
              "  <tbody>\n",
              "    <tr>\n",
              "      <th>1675</th>\n",
              "      <td>2022</td>\n",
              "      <td>7</td>\n",
              "      <td>YX</td>\n",
              "      <td>Republic Airline</td>\n",
              "      <td>STL</td>\n",
              "      <td>St. Louis, MO: St Louis Lambert International</td>\n",
              "      <td>131.0</td>\n",
              "      <td>26.0</td>\n",
              "      <td>6.0</td>\n",
              "      <td>0.0</td>\n",
              "      <td>2054.0</td>\n",
              "      <td>501.0</td>\n",
              "      <td>361.0</td>\n",
              "      <td>298.0</td>\n",
              "      <td>0.0</td>\n",
              "    </tr>\n",
              "    <tr>\n",
              "      <th>1676</th>\n",
              "      <td>2022</td>\n",
              "      <td>7</td>\n",
              "      <td>YX</td>\n",
              "      <td>Republic Airline</td>\n",
              "      <td>SYR</td>\n",
              "      <td>Syracuse, NY: Syracuse Hancock International</td>\n",
              "      <td>149.0</td>\n",
              "      <td>35.0</td>\n",
              "      <td>2.0</td>\n",
              "      <td>0.0</td>\n",
              "      <td>2198.0</td>\n",
              "      <td>679.0</td>\n",
              "      <td>139.0</td>\n",
              "      <td>425.0</td>\n",
              "      <td>0.0</td>\n",
              "    </tr>\n",
              "    <tr>\n",
              "      <th>1677</th>\n",
              "      <td>2022</td>\n",
              "      <td>7</td>\n",
              "      <td>YX</td>\n",
              "      <td>Republic Airline</td>\n",
              "      <td>TUL</td>\n",
              "      <td>Tulsa, OK: Tulsa International</td>\n",
              "      <td>10.0</td>\n",
              "      <td>2.0</td>\n",
              "      <td>0.0</td>\n",
              "      <td>0.0</td>\n",
              "      <td>135.0</td>\n",
              "      <td>8.0</td>\n",
              "      <td>0.0</td>\n",
              "      <td>11.0</td>\n",
              "      <td>0.0</td>\n",
              "    </tr>\n",
              "    <tr>\n",
              "      <th>1678</th>\n",
              "      <td>2022</td>\n",
              "      <td>7</td>\n",
              "      <td>YX</td>\n",
              "      <td>Republic Airline</td>\n",
              "      <td>TVC</td>\n",
              "      <td>Traverse City, MI: Cherry Capital</td>\n",
              "      <td>98.0</td>\n",
              "      <td>13.0</td>\n",
              "      <td>1.0</td>\n",
              "      <td>0.0</td>\n",
              "      <td>950.0</td>\n",
              "      <td>162.0</td>\n",
              "      <td>0.0</td>\n",
              "      <td>291.0</td>\n",
              "      <td>0.0</td>\n",
              "    </tr>\n",
              "    <tr>\n",
              "      <th>1679</th>\n",
              "      <td>2022</td>\n",
              "      <td>7</td>\n",
              "      <td>YX</td>\n",
              "      <td>Republic Airline</td>\n",
              "      <td>XNA</td>\n",
              "      <td>Fayetteville, AR: Northwest Arkansas Regional</td>\n",
              "      <td>56.0</td>\n",
              "      <td>13.0</td>\n",
              "      <td>3.0</td>\n",
              "      <td>0.0</td>\n",
              "      <td>1180.0</td>\n",
              "      <td>120.0</td>\n",
              "      <td>0.0</td>\n",
              "      <td>318.0</td>\n",
              "      <td>0.0</td>\n",
              "    </tr>\n",
              "  </tbody>\n",
              "</table>\n",
              "</div>\n",
              "    <div class=\"colab-df-buttons\">\n",
              "\n",
              "  <div class=\"colab-df-container\">\n",
              "    <button class=\"colab-df-convert\" onclick=\"convertToInteractive('df-3bc349d6-075e-4150-bcda-ded8b7a88752')\"\n",
              "            title=\"Convert this dataframe to an interactive table.\"\n",
              "            style=\"display:none;\">\n",
              "\n",
              "  <svg xmlns=\"http://www.w3.org/2000/svg\" height=\"24px\" viewBox=\"0 -960 960 960\">\n",
              "    <path d=\"M120-120v-720h720v720H120Zm60-500h600v-160H180v160Zm220 220h160v-160H400v160Zm0 220h160v-160H400v160ZM180-400h160v-160H180v160Zm440 0h160v-160H620v160ZM180-180h160v-160H180v160Zm440 0h160v-160H620v160Z\"/>\n",
              "  </svg>\n",
              "    </button>\n",
              "\n",
              "  <style>\n",
              "    .colab-df-container {\n",
              "      display:flex;\n",
              "      gap: 12px;\n",
              "    }\n",
              "\n",
              "    .colab-df-convert {\n",
              "      background-color: #E8F0FE;\n",
              "      border: none;\n",
              "      border-radius: 50%;\n",
              "      cursor: pointer;\n",
              "      display: none;\n",
              "      fill: #1967D2;\n",
              "      height: 32px;\n",
              "      padding: 0 0 0 0;\n",
              "      width: 32px;\n",
              "    }\n",
              "\n",
              "    .colab-df-convert:hover {\n",
              "      background-color: #E2EBFA;\n",
              "      box-shadow: 0px 1px 2px rgba(60, 64, 67, 0.3), 0px 1px 3px 1px rgba(60, 64, 67, 0.15);\n",
              "      fill: #174EA6;\n",
              "    }\n",
              "\n",
              "    .colab-df-buttons div {\n",
              "      margin-bottom: 4px;\n",
              "    }\n",
              "\n",
              "    [theme=dark] .colab-df-convert {\n",
              "      background-color: #3B4455;\n",
              "      fill: #D2E3FC;\n",
              "    }\n",
              "\n",
              "    [theme=dark] .colab-df-convert:hover {\n",
              "      background-color: #434B5C;\n",
              "      box-shadow: 0px 1px 3px 1px rgba(0, 0, 0, 0.15);\n",
              "      filter: drop-shadow(0px 1px 2px rgba(0, 0, 0, 0.3));\n",
              "      fill: #FFFFFF;\n",
              "    }\n",
              "  </style>\n",
              "\n",
              "    <script>\n",
              "      const buttonEl =\n",
              "        document.querySelector('#df-3bc349d6-075e-4150-bcda-ded8b7a88752 button.colab-df-convert');\n",
              "      buttonEl.style.display =\n",
              "        google.colab.kernel.accessAllowed ? 'block' : 'none';\n",
              "\n",
              "      async function convertToInteractive(key) {\n",
              "        const element = document.querySelector('#df-3bc349d6-075e-4150-bcda-ded8b7a88752');\n",
              "        const dataTable =\n",
              "          await google.colab.kernel.invokeFunction('convertToInteractive',\n",
              "                                                    [key], {});\n",
              "        if (!dataTable) return;\n",
              "\n",
              "        const docLinkHtml = 'Like what you see? Visit the ' +\n",
              "          '<a target=\"_blank\" href=https://colab.research.google.com/notebooks/data_table.ipynb>data table notebook</a>'\n",
              "          + ' to learn more about interactive tables.';\n",
              "        element.innerHTML = '';\n",
              "        dataTable['output_type'] = 'display_data';\n",
              "        await google.colab.output.renderOutput(dataTable, element);\n",
              "        const docLink = document.createElement('div');\n",
              "        docLink.innerHTML = docLinkHtml;\n",
              "        element.appendChild(docLink);\n",
              "      }\n",
              "    </script>\n",
              "  </div>\n",
              "\n",
              "\n",
              "<div id=\"df-bc4188f4-4893-46b6-a894-1583e704bd26\">\n",
              "  <button class=\"colab-df-quickchart\" onclick=\"quickchart('df-bc4188f4-4893-46b6-a894-1583e704bd26')\"\n",
              "            title=\"Suggest charts\"\n",
              "            style=\"display:none;\">\n",
              "\n",
              "<svg xmlns=\"http://www.w3.org/2000/svg\" height=\"24px\"viewBox=\"0 0 24 24\"\n",
              "     width=\"24px\">\n",
              "    <g>\n",
              "        <path d=\"M19 3H5c-1.1 0-2 .9-2 2v14c0 1.1.9 2 2 2h14c1.1 0 2-.9 2-2V5c0-1.1-.9-2-2-2zM9 17H7v-7h2v7zm4 0h-2V7h2v10zm4 0h-2v-4h2v4z\"/>\n",
              "    </g>\n",
              "</svg>\n",
              "  </button>\n",
              "\n",
              "<style>\n",
              "  .colab-df-quickchart {\n",
              "      --bg-color: #E8F0FE;\n",
              "      --fill-color: #1967D2;\n",
              "      --hover-bg-color: #E2EBFA;\n",
              "      --hover-fill-color: #174EA6;\n",
              "      --disabled-fill-color: #AAA;\n",
              "      --disabled-bg-color: #DDD;\n",
              "  }\n",
              "\n",
              "  [theme=dark] .colab-df-quickchart {\n",
              "      --bg-color: #3B4455;\n",
              "      --fill-color: #D2E3FC;\n",
              "      --hover-bg-color: #434B5C;\n",
              "      --hover-fill-color: #FFFFFF;\n",
              "      --disabled-bg-color: #3B4455;\n",
              "      --disabled-fill-color: #666;\n",
              "  }\n",
              "\n",
              "  .colab-df-quickchart {\n",
              "    background-color: var(--bg-color);\n",
              "    border: none;\n",
              "    border-radius: 50%;\n",
              "    cursor: pointer;\n",
              "    display: none;\n",
              "    fill: var(--fill-color);\n",
              "    height: 32px;\n",
              "    padding: 0;\n",
              "    width: 32px;\n",
              "  }\n",
              "\n",
              "  .colab-df-quickchart:hover {\n",
              "    background-color: var(--hover-bg-color);\n",
              "    box-shadow: 0 1px 2px rgba(60, 64, 67, 0.3), 0 1px 3px 1px rgba(60, 64, 67, 0.15);\n",
              "    fill: var(--button-hover-fill-color);\n",
              "  }\n",
              "\n",
              "  .colab-df-quickchart-complete:disabled,\n",
              "  .colab-df-quickchart-complete:disabled:hover {\n",
              "    background-color: var(--disabled-bg-color);\n",
              "    fill: var(--disabled-fill-color);\n",
              "    box-shadow: none;\n",
              "  }\n",
              "\n",
              "  .colab-df-spinner {\n",
              "    border: 2px solid var(--fill-color);\n",
              "    border-color: transparent;\n",
              "    border-bottom-color: var(--fill-color);\n",
              "    animation:\n",
              "      spin 1s steps(1) infinite;\n",
              "  }\n",
              "\n",
              "  @keyframes spin {\n",
              "    0% {\n",
              "      border-color: transparent;\n",
              "      border-bottom-color: var(--fill-color);\n",
              "      border-left-color: var(--fill-color);\n",
              "    }\n",
              "    20% {\n",
              "      border-color: transparent;\n",
              "      border-left-color: var(--fill-color);\n",
              "      border-top-color: var(--fill-color);\n",
              "    }\n",
              "    30% {\n",
              "      border-color: transparent;\n",
              "      border-left-color: var(--fill-color);\n",
              "      border-top-color: var(--fill-color);\n",
              "      border-right-color: var(--fill-color);\n",
              "    }\n",
              "    40% {\n",
              "      border-color: transparent;\n",
              "      border-right-color: var(--fill-color);\n",
              "      border-top-color: var(--fill-color);\n",
              "    }\n",
              "    60% {\n",
              "      border-color: transparent;\n",
              "      border-right-color: var(--fill-color);\n",
              "    }\n",
              "    80% {\n",
              "      border-color: transparent;\n",
              "      border-right-color: var(--fill-color);\n",
              "      border-bottom-color: var(--fill-color);\n",
              "    }\n",
              "    90% {\n",
              "      border-color: transparent;\n",
              "      border-bottom-color: var(--fill-color);\n",
              "    }\n",
              "  }\n",
              "</style>\n",
              "\n",
              "  <script>\n",
              "    async function quickchart(key) {\n",
              "      const quickchartButtonEl =\n",
              "        document.querySelector('#' + key + ' button');\n",
              "      quickchartButtonEl.disabled = true;  // To prevent multiple clicks.\n",
              "      quickchartButtonEl.classList.add('colab-df-spinner');\n",
              "      try {\n",
              "        const charts = await google.colab.kernel.invokeFunction(\n",
              "            'suggestCharts', [key], {});\n",
              "      } catch (error) {\n",
              "        console.error('Error during call to suggestCharts:', error);\n",
              "      }\n",
              "      quickchartButtonEl.classList.remove('colab-df-spinner');\n",
              "      quickchartButtonEl.classList.add('colab-df-quickchart-complete');\n",
              "    }\n",
              "    (() => {\n",
              "      let quickchartButtonEl =\n",
              "        document.querySelector('#df-bc4188f4-4893-46b6-a894-1583e704bd26 button');\n",
              "      quickchartButtonEl.style.display =\n",
              "        google.colab.kernel.accessAllowed ? 'block' : 'none';\n",
              "    })();\n",
              "  </script>\n",
              "</div>\n",
              "    </div>\n",
              "  </div>\n"
            ],
            "application/vnd.google.colaboratory.intrinsic+json": {
              "type": "dataframe",
              "summary": "{\n  \"name\": \"df1\",\n  \"rows\": 5,\n  \"fields\": [\n    {\n      \"column\": \"year\",\n      \"properties\": {\n        \"dtype\": \"number\",\n        \"std\": 0,\n        \"min\": 2022,\n        \"max\": 2022,\n        \"num_unique_values\": 1,\n        \"samples\": [\n          2022\n        ],\n        \"semantic_type\": \"\",\n        \"description\": \"\"\n      }\n    },\n    {\n      \"column\": \"month\",\n      \"properties\": {\n        \"dtype\": \"number\",\n        \"std\": 0,\n        \"min\": 7,\n        \"max\": 7,\n        \"num_unique_values\": 1,\n        \"samples\": [\n          7\n        ],\n        \"semantic_type\": \"\",\n        \"description\": \"\"\n      }\n    },\n    {\n      \"column\": \"carrier\",\n      \"properties\": {\n        \"dtype\": \"category\",\n        \"num_unique_values\": 1,\n        \"samples\": [\n          \"YX\"\n        ],\n        \"semantic_type\": \"\",\n        \"description\": \"\"\n      }\n    },\n    {\n      \"column\": \"carrier_name\",\n      \"properties\": {\n        \"dtype\": \"category\",\n        \"num_unique_values\": 1,\n        \"samples\": [\n          \"Republic Airline\"\n        ],\n        \"semantic_type\": \"\",\n        \"description\": \"\"\n      }\n    },\n    {\n      \"column\": \"airport\",\n      \"properties\": {\n        \"dtype\": \"string\",\n        \"num_unique_values\": 5,\n        \"samples\": [\n          \"SYR\"\n        ],\n        \"semantic_type\": \"\",\n        \"description\": \"\"\n      }\n    },\n    {\n      \"column\": \"airport_name\",\n      \"properties\": {\n        \"dtype\": \"string\",\n        \"num_unique_values\": 5,\n        \"samples\": [\n          \"Syracuse, NY: Syracuse Hancock International\"\n        ],\n        \"semantic_type\": \"\",\n        \"description\": \"\"\n      }\n    },\n    {\n      \"column\": \"arr_flights\",\n      \"properties\": {\n        \"dtype\": \"number\",\n        \"std\": 56.51283040159995,\n        \"min\": 10.0,\n        \"max\": 149.0,\n        \"num_unique_values\": 5,\n        \"samples\": [\n          149.0\n        ],\n        \"semantic_type\": \"\",\n        \"description\": \"\"\n      }\n    },\n    {\n      \"column\": \"arr_del15\",\n      \"properties\": {\n        \"dtype\": \"number\",\n        \"std\": 12.833549781724463,\n        \"min\": 2.0,\n        \"max\": 35.0,\n        \"num_unique_values\": 4,\n        \"samples\": [\n          35.0\n        ],\n        \"semantic_type\": \"\",\n        \"description\": \"\"\n      }\n    },\n    {\n      \"column\": \"arr_cancelled\",\n      \"properties\": {\n        \"dtype\": \"number\",\n        \"std\": 2.302172886644268,\n        \"min\": 0.0,\n        \"max\": 6.0,\n        \"num_unique_values\": 5,\n        \"samples\": [\n          2.0\n        ],\n        \"semantic_type\": \"\",\n        \"description\": \"\"\n      }\n    },\n    {\n      \"column\": \"arr_diverted\",\n      \"properties\": {\n        \"dtype\": \"number\",\n        \"std\": 0.0,\n        \"min\": 0.0,\n        \"max\": 0.0,\n        \"num_unique_values\": 1,\n        \"samples\": [\n          0.0\n        ],\n        \"semantic_type\": \"\",\n        \"description\": \"\"\n      }\n    },\n    {\n      \"column\": \"arr_delay\",\n      \"properties\": {\n        \"dtype\": \"number\",\n        \"std\": 846.9042448825015,\n        \"min\": 135.0,\n        \"max\": 2198.0,\n        \"num_unique_values\": 5,\n        \"samples\": [\n          2198.0\n        ],\n        \"semantic_type\": \"\",\n        \"description\": \"\"\n      }\n    },\n    {\n      \"column\": \"carrier_delay\",\n      \"properties\": {\n        \"dtype\": \"number\",\n        \"std\": 283.0945071879707,\n        \"min\": 8.0,\n        \"max\": 679.0,\n        \"num_unique_values\": 5,\n        \"samples\": [\n          679.0\n        ],\n        \"semantic_type\": \"\",\n        \"description\": \"\"\n      }\n    },\n    {\n      \"column\": \"weather_delay\",\n      \"properties\": {\n        \"dtype\": \"number\",\n        \"std\": 157.83060539705218,\n        \"min\": 0.0,\n        \"max\": 361.0,\n        \"num_unique_values\": 3,\n        \"samples\": [\n          361.0\n        ],\n        \"semantic_type\": \"\",\n        \"description\": \"\"\n      }\n    },\n    {\n      \"column\": \"nas_delay\",\n      \"properties\": {\n        \"dtype\": \"number\",\n        \"std\": 153.80604669518036,\n        \"min\": 11.0,\n        \"max\": 425.0,\n        \"num_unique_values\": 5,\n        \"samples\": [\n          425.0\n        ],\n        \"semantic_type\": \"\",\n        \"description\": \"\"\n      }\n    },\n    {\n      \"column\": \"security_delay\",\n      \"properties\": {\n        \"dtype\": \"number\",\n        \"std\": 0.0,\n        \"min\": 0.0,\n        \"max\": 0.0,\n        \"num_unique_values\": 1,\n        \"samples\": [\n          0.0\n        ],\n        \"semantic_type\": \"\",\n        \"description\": \"\"\n      }\n    }\n  ]\n}"
            }
          },
          "metadata": {},
          "execution_count": 25
        }
      ],
      "source": [
        "#put you code below:\n",
        "df1.tail()\n"
      ]
    },
    {
      "cell_type": "markdown",
      "metadata": {
        "id": "YNwaL1Qu1_Je"
      },
      "source": [
        "Since our dataset has 3 CSV files, for convenience let's combine all files in one document\n",
        "using the .concat() method, explore the official documentation of the .concat() method to find out\n",
        "how to use it properly, read examples: https://pandas.pydata.org/pandas-docs/stable/reference/api/pandas.concat.html\n"
      ]
    },
    {
      "cell_type": "code",
      "execution_count": null,
      "metadata": {
        "id": "IulQN5oH1_Je"
      },
      "outputs": [],
      "source": [
        "#put you code below, make sure the index of the combined dataset is starting from 0:\n"
      ]
    },
    {
      "cell_type": "markdown",
      "metadata": {
        "id": "c339m6Vh1_Je"
      },
      "source": [
        "Let's explore the first few rows of the whole dataset:"
      ]
    },
    {
      "cell_type": "code",
      "execution_count": null,
      "metadata": {
        "id": "WrRjG7dc1_Je"
      },
      "outputs": [],
      "source": [
        "#put you code below:\n"
      ]
    },
    {
      "cell_type": "markdown",
      "metadata": {
        "id": "VVmzbT0_1_Je"
      },
      "source": [
        "How many rows and columns the dataset has?\n"
      ]
    },
    {
      "cell_type": "code",
      "execution_count": null,
      "metadata": {
        "id": "LzmGffdB1_Jf"
      },
      "outputs": [],
      "source": [
        "#put you code below:\n"
      ]
    },
    {
      "cell_type": "markdown",
      "metadata": {
        "id": "BqEI5PPU7TJ_"
      },
      "source": [
        "Use the .info() medthod to finds out the number of rows and columns, the data types of each columns, the number of non-missing values (non-null), memory usage. Columns that contains strings datat (or mixed datatypes) will be recognised as Object in Pandas."
      ]
    },
    {
      "cell_type": "code",
      "execution_count": null,
      "metadata": {
        "id": "We1RejSg7TJ_"
      },
      "outputs": [],
      "source": [
        "#put you code below:\n"
      ]
    },
    {
      "cell_type": "markdown",
      "metadata": {
        "id": "YVeUMAq41_Jf"
      },
      "source": [
        "Make sure to check whether columns containing numerical values need to be converted as numeric for proper downstream analyses."
      ]
    },
    {
      "cell_type": "markdown",
      "metadata": {
        "id": "V0xPSOPH1_Jf"
      },
      "source": [
        "Alternatively, we can use the attribute shape to have only returned the number of rows and columns:"
      ]
    },
    {
      "cell_type": "code",
      "execution_count": null,
      "metadata": {
        "id": "PAboYdqn1_Jf"
      },
      "outputs": [],
      "source": [
        "#put you code below:\n"
      ]
    },
    {
      "cell_type": "markdown",
      "metadata": {
        "id": "BSGrCkM01_Jf"
      },
      "source": [
        "The attribute dtypes will return only the data types of each column:"
      ]
    },
    {
      "cell_type": "code",
      "execution_count": null,
      "metadata": {
        "id": "nD3J-FgF1_Jf"
      },
      "outputs": [],
      "source": [
        "#put you code below:\n"
      ]
    },
    {
      "cell_type": "markdown",
      "metadata": {
        "id": "cSFZViR21_Jg"
      },
      "source": [
        "We can quickly run some statistics with the describe() function:"
      ]
    },
    {
      "cell_type": "code",
      "execution_count": null,
      "metadata": {
        "id": "_BdvAIme1_Jg"
      },
      "outputs": [],
      "source": [
        "#put you code below:\n"
      ]
    },
    {
      "cell_type": "markdown",
      "metadata": {
        "id": "sYgV1ik51_Jg"
      },
      "source": [
        "Note: the 'year' and 'month' columns are seen as numerical values (they have the float datatype, as seen with the info() function). Hence, they will appear in the summary stats when using the describe() function. We would need to assigned to both the datetime datatype to be properly seen as dates."
      ]
    },
    {
      "cell_type": "markdown",
      "metadata": {
        "id": "5rbZPgwy1_Jg"
      },
      "source": [
        "## 2.Data tranformation:"
      ]
    },
    {
      "cell_type": "markdown",
      "metadata": {
        "id": "cJ9niPHe1_Jg"
      },
      "source": [
        "After exploring the dataset variables, some data transformation might be needed."
      ]
    },
    {
      "cell_type": "markdown",
      "metadata": {
        "id": "ng9fKBDz1_Jg"
      },
      "source": [
        "From the previous method used .info() we could see that the year and month are both float data types. To work efficiently with dates in Pandas, they need to be converted into a date datatype. This is done by using the .todatetime() method as followed:"
      ]
    },
    {
      "cell_type": "markdown",
      "metadata": {
        "id": "xn0icv0P1_Jg"
      },
      "source": [
        "Before doing any modications to our dataframe, we will create a copy to not modify yet the original dataset in case we insert an error and cannot remove it. If you make an error in the original dataset without creating a copy you will need to restart the Python intrepreter to clear data in memory and re-run your script from the start."
      ]
    },
    {
      "cell_type": "code",
      "execution_count": null,
      "metadata": {
        "id": "v5xtLqKz1_Jh"
      },
      "outputs": [],
      "source": [
        "df_copy= df.copy(deep=True)"
      ]
    },
    {
      "cell_type": "markdown",
      "metadata": {
        "id": "Sv529Ztp1_Jh"
      },
      "source": [
        "We could convert the year and month directly to date datatype but by default, the function will give us a day and month number associated to each date, which is not what we want to insert a wrong day and month"
      ]
    },
    {
      "cell_type": "code",
      "execution_count": null,
      "metadata": {
        "id": "FOFZDvbP1_Jh"
      },
      "outputs": [],
      "source": [
        "df_copy['year'] = pd.to_datetime(df_copy['year'])\n",
        "df_copy.head()"
      ]
    },
    {
      "cell_type": "markdown",
      "metadata": {
        "id": "82RDxe8Y1_Jh"
      },
      "source": [
        "We can create a new column named \"date\" to store the date which will have the \"month\" and \"year\" from our dataset. We can concatenate our 2 columns month and year using the \"+\" sign:"
      ]
    },
    {
      "cell_type": "code",
      "execution_count": null,
      "metadata": {
        "id": "dShvXmxi1_Jh"
      },
      "outputs": [],
      "source": [
        "df_copy['date']= df_copy['month']+df_copy['year']\n",
        "df_copy.head()"
      ]
    },
    {
      "cell_type": "markdown",
      "metadata": {
        "id": "Bs4zLRzk1_Jh"
      },
      "source": [
        "It looks like our new date column contain the wrong date in it, this is because the month has been added to the year since they are both integers data types!\n",
        "To overcome this problem, we need to change the month and year datatypes to a string.\n",
        "The .astype() method is used to cast pandas datatype to others:"
      ]
    },
    {
      "cell_type": "code",
      "execution_count": null,
      "metadata": {
        "id": "DpMXw6tK1_Jh"
      },
      "outputs": [],
      "source": [
        "#First, let's convert the month and year into a string datatype so we can concatenate them afterall:\n",
        "#We need to use the .astype() methodf to convert data in Pandas\n",
        "df_copy=df_copy.astype({\"month\": str, \"year\":str, \"date\":str})\n",
        "df_copy.info()"
      ]
    },
    {
      "cell_type": "markdown",
      "metadata": {
        "id": "LdPINmqa1_Js"
      },
      "source": [
        "Now our month and year column have been well transformed to a string data type called object in Pandas"
      ]
    },
    {
      "cell_type": "code",
      "execution_count": null,
      "metadata": {
        "id": "F_6YerkS1_Js"
      },
      "outputs": [],
      "source": [
        "#alternative method to convert datatypes in Pandas:\n",
        "df_copy['month'].astype(str)\n",
        "df_copy['year'].astype(str)\n",
        "df_copy['date'].astype(str)"
      ]
    },
    {
      "cell_type": "code",
      "execution_count": null,
      "metadata": {
        "id": "9NZrVcNk1_Js"
      },
      "outputs": [],
      "source": [
        "df_copy['date']= df_copy['year']+\"-\"+df_copy['month']\n",
        "df_copy.head()"
      ]
    },
    {
      "cell_type": "markdown",
      "metadata": {
        "id": "peYtiDb21_Jt"
      },
      "source": [
        "Now our new column named date have the right format with the year followed by the month.\n"
      ]
    },
    {
      "cell_type": "markdown",
      "metadata": {
        "id": "MteZyWCL1_Jt"
      },
      "source": [
        "Using the Pandas function .to_datetime() we can transform at once the date into a datetime datatype:"
      ]
    },
    {
      "cell_type": "code",
      "execution_count": null,
      "metadata": {
        "id": "vNq5u8tv1_Jt"
      },
      "outputs": [],
      "source": [
        "df_copy['date'] = pd.to_datetime(df_copy['date'])\n",
        "df_copy.info()"
      ]
    },
    {
      "cell_type": "code",
      "execution_count": null,
      "metadata": {
        "id": "FZ7yUNTN1_Jt"
      },
      "outputs": [],
      "source": [
        "df_copy.head()"
      ]
    },
    {
      "cell_type": "markdown",
      "metadata": {
        "id": "xbty7ST-1_Jt"
      },
      "source": [
        "We can see from the column 'data' that we could assign datatime as datatype to the 'date' column, but doing this we also introduced by default a day number, here '01'. To overcome this we would beed to use an additonal function to get only the month and the year with a correct date format."
      ]
    },
    {
      "cell_type": "code",
      "execution_count": null,
      "metadata": {
        "id": "bsghQr_O1_Jt"
      },
      "outputs": [],
      "source": [
        "df_copy['date']= pd.to_datetime(df_copy['date']).dt.to_period('M')\n",
        "#.dt.to_period('M') converts the datetime values into a PeriodIndex with a monthly frequency (period)"
      ]
    },
    {
      "cell_type": "code",
      "execution_count": null,
      "metadata": {
        "id": "vMKVzkqR1_Ju"
      },
      "outputs": [],
      "source": [
        "df_copy.head()"
      ]
    },
    {
      "cell_type": "code",
      "execution_count": null,
      "metadata": {
        "id": "6kBrqWyl1_Ju"
      },
      "outputs": [],
      "source": [
        "df_copy.info()"
      ]
    },
    {
      "cell_type": "markdown",
      "metadata": {
        "id": "7JVnbyFu1_Ju"
      },
      "source": [
        "The 'date' column was assigned the 'period' datatype which is another date fromat used in pandas."
      ]
    },
    {
      "cell_type": "markdown",
      "metadata": {
        "id": "rRfI29QS1_Ju"
      },
      "source": [
        "Our new column \"date\" as been well created. Let's save it in our working folder:"
      ]
    },
    {
      "cell_type": "code",
      "execution_count": null,
      "metadata": {
        "id": "YS4aENya1_Ju"
      },
      "outputs": [],
      "source": [
        "df_copy.to_csv('flights_dataset.csv')"
      ]
    },
    {
      "cell_type": "markdown",
      "metadata": {
        "id": "UmHLuLQG1_Ju"
      },
      "source": [
        "Note: in the event you work with a dataset that has a column containing the full date named \"date\" for instance, you can set the date column to the datatype datetime directly when importing your dataset with Pandas using the argument \"parse_dates\" when calling the Pandas function such as: df=pd.read_csv(\"datafile\", parse_dates=[\"date\"])\n",
        "This will give you a date format with days, months, and years by default"
      ]
    },
    {
      "cell_type": "markdown",
      "metadata": {
        "id": "oXvW9tZC1_Ju"
      },
      "source": [
        "Let's removed unwanted columns, the month and year columns, using the medthod .drop():"
      ]
    },
    {
      "cell_type": "code",
      "execution_count": null,
      "metadata": {
        "id": "E_R_4l9Y1_Ju"
      },
      "outputs": [],
      "source": [
        "#put you code below:\n"
      ]
    },
    {
      "cell_type": "markdown",
      "metadata": {
        "id": "1C2L5HPR1_Jv"
      },
      "source": [
        "The columns month and year has been well removed."
      ]
    },
    {
      "cell_type": "markdown",
      "metadata": {
        "id": "nZ99TsxS1_Jv"
      },
      "source": [
        "## 3-Data Cleaning\n",
        "The next step after exploring our dataset and correct some of the datatypes we did would be to clean the dataset"
      ]
    },
    {
      "cell_type": "markdown",
      "metadata": {
        "id": "nHr1hMPo1_Jv"
      },
      "source": [
        "Let's check how many missing values our dataset has using the isnull() and sum() function:"
      ]
    },
    {
      "cell_type": "code",
      "execution_count": null,
      "metadata": {
        "id": "DxNuc50B1_Jv"
      },
      "outputs": [],
      "source": [
        "#put you code below:\n"
      ]
    },
    {
      "cell_type": "markdown",
      "metadata": {
        "id": "i37yYOb-1_Jv"
      },
      "source": [
        "We can see see that missing values are presents in columns associated with numerical values and also in the carrier name. Missing data from the columns that contain important information on the name of the carrier or arilaine names that we are not able to identify can cause issues in our downstream analysis. We will me removed those for now since we cannot identify them.\n",
        "Replacing missing values should always be case specific!"
      ]
    },
    {
      "cell_type": "markdown",
      "metadata": {
        "id": "XnSlH6wG1_Jv"
      },
      "source": [
        "let's remove missing values from the carrier name:"
      ]
    },
    {
      "cell_type": "code",
      "execution_count": null,
      "metadata": {
        "id": "xmNN5zXM1_Jv"
      },
      "outputs": [],
      "source": [
        "#put you code below:\n"
      ]
    },
    {
      "cell_type": "markdown",
      "metadata": {
        "id": "nmb9R_ts1_Jv"
      },
      "source": [
        "Let's verify the dataframe don't have any missing values left:"
      ]
    },
    {
      "cell_type": "code",
      "execution_count": null,
      "metadata": {
        "id": "xdws2AM41_Jw"
      },
      "outputs": [],
      "source": [
        "#put you code below:\n"
      ]
    },
    {
      "cell_type": "markdown",
      "metadata": {
        "id": "M8u10dbJ1_Jw"
      },
      "source": [
        "### Let's check the distribution of the data:"
      ]
    },
    {
      "cell_type": "markdown",
      "metadata": {
        "id": "c1y8iGfd1_Jw"
      },
      "source": [
        "if you don't recall the name of the variables, use the following command to quickly get their names:"
      ]
    },
    {
      "cell_type": "code",
      "execution_count": null,
      "metadata": {
        "id": "Ut4-SOvs1_Jw"
      },
      "outputs": [],
      "source": [
        "df_copy.columns"
      ]
    },
    {
      "cell_type": "markdown",
      "metadata": {
        "id": "fB5MudGt1_Jw"
      },
      "source": [
        "We can check the data distribution to see if we get outliers in columns with numerical values using the built-in box_plot function in Pandas:"
      ]
    },
    {
      "cell_type": "markdown",
      "metadata": {
        "id": "mmEAK6Y_1_Jw"
      },
      "source": [
        "we apply the method .box_plot to our dataframe named \"df\""
      ]
    },
    {
      "cell_type": "code",
      "execution_count": null,
      "metadata": {
        "id": "UgL-zuPH1_Jw"
      },
      "outputs": [],
      "source": [
        "%matplotlib inline"
      ]
    },
    {
      "cell_type": "code",
      "execution_count": null,
      "metadata": {
        "id": "CftMw80C1_Jw"
      },
      "outputs": [],
      "source": [
        "df_copy.boxplot(\"weather_delay\")"
      ]
    },
    {
      "cell_type": "markdown",
      "metadata": {
        "id": "XeDGuBwn1_Jx"
      },
      "source": [
        "let's reuse the boxplot using a function:"
      ]
    },
    {
      "cell_type": "code",
      "execution_count": null,
      "metadata": {
        "id": "A6oNjtS41_Jx"
      },
      "outputs": [],
      "source": [
        "#We create a function that will return a box plot:\n",
        "def box_plot(flights):\n",
        "    return df_copy.boxplot(flights)"
      ]
    },
    {
      "cell_type": "code",
      "execution_count": null,
      "metadata": {
        "id": "fLtrweRc1_Jx"
      },
      "outputs": [],
      "source": [
        "#We call our function passing a data variable as argument:\n",
        "box_plot('nas_delay')"
      ]
    },
    {
      "cell_type": "markdown",
      "metadata": {
        "id": "Ft2uPgl31_Jx"
      },
      "source": [
        "Call the function again to check other variables."
      ]
    },
    {
      "cell_type": "code",
      "execution_count": null,
      "metadata": {
        "id": "-ZwWnwxW1_Jx"
      },
      "outputs": [],
      "source": [
        "# Identify and remove the row with the outlier\n",
        "outlier_index= df_copy[df_copy['nas_delay']>175000].index\n",
        "df_cleaned= df_copy.drop(outlier_index)"
      ]
    },
    {
      "cell_type": "code",
      "execution_count": null,
      "metadata": {
        "id": "NXoC6lnP1_Jx"
      },
      "outputs": [],
      "source": [
        "outlier_index # we used the .index attribute to get the row number of our outlier"
      ]
    },
    {
      "cell_type": "code",
      "execution_count": null,
      "metadata": {
        "id": "9zUz0AlT1_Jy"
      },
      "outputs": [],
      "source": [
        "df_cleaned.boxplot('nas_delay')"
      ]
    },
    {
      "cell_type": "markdown",
      "metadata": {
        "id": "ih6qVZJ11_Jy"
      },
      "source": [
        "We can see from the above boxplot that the outliser has been well removed."
      ]
    },
    {
      "cell_type": "markdown",
      "metadata": {
        "id": "dZ78wMHC1_Jy"
      },
      "source": [
        "Using the Python Matplotlib visualisation library, we can plot several plots at once using the subplots() function:"
      ]
    },
    {
      "cell_type": "markdown",
      "metadata": {
        "id": "oEjfNKiT1_Jy"
      },
      "source": [
        "Let's import the Matplotlib library to use it"
      ]
    },
    {
      "cell_type": "code",
      "execution_count": null,
      "metadata": {
        "id": "bigCSm-W1_Jy"
      },
      "outputs": [],
      "source": [
        "import matplotlib.pyplot as plt"
      ]
    },
    {
      "cell_type": "code",
      "execution_count": null,
      "metadata": {
        "id": "t-6RWagi1_Jy"
      },
      "outputs": [],
      "source": [
        "figure, ax = plt.subplots(nrows=2, ncols=1) # subplot layer has 2 rows an 1 column which means 2 figures\n",
        "df_cleaned.hist('weather_delay',ax=ax[0], bins=25, color=\"purple\")\n",
        "df_cleaned.boxplot(\"weather_delay\",ax=ax[1], color=\"blue\")\n"
      ]
    },
    {
      "cell_type": "markdown",
      "metadata": {
        "id": "vqPrcg6p1_Jy"
      },
      "source": [
        "Same as before, but saved into a function to reuse:"
      ]
    },
    {
      "cell_type": "code",
      "execution_count": null,
      "metadata": {
        "id": "mf_5cq0W1_Jz"
      },
      "outputs": [],
      "source": [
        "def subplot_function(data1, data2):  # I added one parameter per plot\n",
        "    figure, ax = plt.subplots(nrows=2, ncols=1)\n",
        "\n",
        "    # Get statistics\n",
        "    min_val= df_cleaned[data1].min()\n",
        "    max_val= df_cleaned[data1].max()\n",
        "    mean_val= df_cleaned[data1].mean()\n",
        "    med_val= df_cleaned[data1].median()\n",
        "\n",
        "    # Add lines for the min, mean and median, and max\n",
        "    ax[0].axvline(x=min_val, color = 'gray', linestyle='dashed', linewidth = 2)\n",
        "    ax[0].axvline(x=mean_val, color = 'cyan', linestyle='dashed', linewidth = 2)\n",
        "    ax[0].axvline(x=med_val, color = 'red', linestyle='dashed', linewidth = 2)\n",
        "    ax[0].axvline(x=max_val, color = 'blue', linestyle='dashed', linewidth = 2)\n",
        "\n",
        "    #Change labels- 1st plot\n",
        "    ax[0].set_ylabel('Frequency')\n",
        "\n",
        "    df_cleaned.hist(data1,ax=ax[0], bins=10, color=\"purple\")\n",
        "\n",
        "\n",
        "    #Change labels- 2nd plot\n",
        "    ax[1].set_xlabel('')\n",
        "    ax[1].set_ylabel('Frequency')\n",
        "\n",
        "\n",
        "    df_cleaned.boxplot(data2,ax=ax[1], color=\"blue\")"
      ]
    },
    {
      "cell_type": "code",
      "execution_count": null,
      "metadata": {
        "id": "9O7SoP-T1_Jz"
      },
      "outputs": [],
      "source": [
        "subplot_function('nas_delay',\"nas_delay\")"
      ]
    },
    {
      "cell_type": "markdown",
      "metadata": {
        "id": "GLlltP8e1_Jz"
      },
      "source": [
        "## 4-Data Analysis\n"
      ]
    },
    {
      "cell_type": "markdown",
      "metadata": {
        "id": "u8EOiOAY1_Jz"
      },
      "source": [
        "#### Q1-Which Airlines has the most delayed flights?"
      ]
    },
    {
      "cell_type": "markdown",
      "metadata": {
        "id": "EXu9yLDy1_Jz"
      },
      "source": [
        "We can group the airline data and calculate the average of delayed flights per airline using the .groupby() method and mean() function"
      ]
    },
    {
      "cell_type": "code",
      "execution_count": null,
      "metadata": {
        "id": "BH-6zUxI1_Jz"
      },
      "outputs": [],
      "source": [
        "#put you code below:\n"
      ]
    },
    {
      "cell_type": "markdown",
      "metadata": {
        "id": "2Z77m9jk1_Jz"
      },
      "source": [
        "we can see how many airlines has been grouped with the function .size():"
      ]
    },
    {
      "cell_type": "code",
      "execution_count": null,
      "metadata": {
        "id": "w9o60fWu1_Jz"
      },
      "outputs": [],
      "source": [
        "#put you code below:\n"
      ]
    },
    {
      "cell_type": "markdown",
      "metadata": {
        "id": "aFnsAOQD1_Jz"
      },
      "source": [
        "next we calculate the mean of the delayed flights per airline:"
      ]
    },
    {
      "cell_type": "code",
      "execution_count": null,
      "metadata": {
        "id": "PjAc3WY81_J0"
      },
      "outputs": [],
      "source": [
        "#put you code below:\n"
      ]
    },
    {
      "cell_type": "markdown",
      "metadata": {
        "id": "jagNta9M1_J0"
      },
      "source": [
        "each arilines have associated the mean of deyalyed flights."
      ]
    },
    {
      "cell_type": "markdown",
      "metadata": {
        "id": "ge6oDflC1_J0"
      },
      "source": [
        "Let's plot the data using the Matplotlib and Seaborn visualisation libraries:"
      ]
    },
    {
      "cell_type": "markdown",
      "metadata": {
        "id": "JjzOtAJx1_J0"
      },
      "source": [
        "Always import a library prior to use it (only once in your script!):\n"
      ]
    },
    {
      "cell_type": "code",
      "execution_count": null,
      "metadata": {
        "id": "_L_tDA5K1_J0"
      },
      "outputs": [],
      "source": [
        "import matplotlib.pyplot as plt\n",
        "import seaborn as sns"
      ]
    },
    {
      "cell_type": "markdown",
      "metadata": {
        "id": "yLhG0nId1_J0"
      },
      "source": [
        "prior any plotting let's sort the data and use a barplot to plot the data to find out which airline has the most delayed flights:"
      ]
    },
    {
      "cell_type": "code",
      "execution_count": null,
      "metadata": {
        "id": "5M3Ig9f61_J0"
      },
      "outputs": [],
      "source": [
        "#put you code below:\n"
      ]
    },
    {
      "cell_type": "markdown",
      "metadata": {
        "id": "7fA3s5c21_J1"
      },
      "source": [
        "#### Q2-Which Airline is the most affected by both delayed and cancelled flights?"
      ]
    },
    {
      "cell_type": "markdown",
      "metadata": {
        "id": "jfJjO5gg1_J1"
      },
      "source": [
        "let's use a similar approach as the previous analysis with the groupby() method and ploting the relevant data:"
      ]
    },
    {
      "cell_type": "code",
      "execution_count": null,
      "metadata": {
        "id": "o2ZhaYFr1_J1"
      },
      "outputs": [],
      "source": [
        "#put you code below:\n"
      ]
    },
    {
      "cell_type": "markdown",
      "metadata": {
        "id": "OLcd8aeN1_J2"
      },
      "source": [
        "Let's investigate what could be the cause of the delayed of that company based on the data we have."
      ]
    },
    {
      "cell_type": "markdown",
      "metadata": {
        "id": "YGwrIv7_1_J2"
      },
      "source": [
        "#### Q3-What are the main cause of flights cancellations and delays for the company Southwest Airlines Co.?"
      ]
    },
    {
      "cell_type": "markdown",
      "metadata": {
        "id": "MO8NwUqO1_J2"
      },
      "source": [
        "Let's isolate data from the Southwest Airlines Co. to look at the causes. To do this we need to search for the company name in carrier_name column and isolate all columns related to that carrier."
      ]
    },
    {
      "cell_type": "code",
      "execution_count": null,
      "metadata": {
        "id": "3lcU_QK21_J2"
      },
      "outputs": [],
      "source": [
        "df_cleaned[\"carrier_name\"].str.contains(\"Southwest Airlines Co.\")"
      ]
    },
    {
      "cell_type": "code",
      "execution_count": null,
      "metadata": {
        "id": "GhURro841_J3"
      },
      "outputs": [],
      "source": [
        "df_SW_airline=df_cleaned[df_cleaned[\"carrier_name\"].str.contains(\"Southwest Airlines Co.\")]"
      ]
    },
    {
      "cell_type": "code",
      "execution_count": null,
      "metadata": {
        "id": "7A2riM3u1_J3"
      },
      "outputs": [],
      "source": [
        "df_SW_airline.head()"
      ]
    },
    {
      "cell_type": "code",
      "execution_count": null,
      "metadata": {
        "id": "13V9BwM61_J3"
      },
      "outputs": [],
      "source": [
        "# To confirm we have well isolated one carrier only:\n",
        "count=df_SW_airline[\"carrier_name\"].nunique()\n",
        "print(count)"
      ]
    },
    {
      "cell_type": "code",
      "execution_count": null,
      "metadata": {
        "id": "HWDuMPfT1_J3"
      },
      "outputs": [],
      "source": [
        "# To confirm we have well isolated one carrier only- alternative method:\n",
        "df_SW_airline[\"carrier_name\"].value_counts()"
      ]
    },
    {
      "cell_type": "code",
      "execution_count": null,
      "metadata": {
        "id": "IyAeNOWJ1_J3"
      },
      "outputs": [],
      "source": [
        "df_SW_airline.keys() # same as the .columns attribute"
      ]
    },
    {
      "cell_type": "code",
      "execution_count": null,
      "metadata": {
        "id": "3IFwCjbE1_J3"
      },
      "outputs": [],
      "source": [
        "df_SW_subset=df_SW_airline[[\"carrier_delay\",\"weather_delay\",\"nas_delay\",\"security_delay\"]] # We are selecting only the columns related to causes of delay"
      ]
    },
    {
      "cell_type": "code",
      "execution_count": null,
      "metadata": {
        "id": "-7rlu43b1_J3"
      },
      "outputs": [],
      "source": [
        "df_SW_subset.head()"
      ]
    },
    {
      "cell_type": "code",
      "execution_count": null,
      "metadata": {
        "id": "HovYi-xY1_J4"
      },
      "outputs": [],
      "source": [
        "sum_data=df_SW_subset.sum()\n",
        "sum_data"
      ]
    },
    {
      "cell_type": "code",
      "execution_count": null,
      "metadata": {
        "id": "UW408KwQ1_J4"
      },
      "outputs": [],
      "source": [
        "sum_df= sum_data.to_frame()\n",
        "sum_df"
      ]
    },
    {
      "cell_type": "code",
      "execution_count": null,
      "metadata": {
        "id": "0GJzFU1X1_J4"
      },
      "outputs": [],
      "source": [
        "sum_df=sum_df.rename(columns={0: 'causes'})\n",
        "sum_df"
      ]
    },
    {
      "cell_type": "markdown",
      "metadata": {
        "id": "W8rk_Q4W7TKL"
      },
      "source": [
        "plot the data to reply to the question"
      ]
    },
    {
      "cell_type": "markdown",
      "metadata": {
        "id": "VWj5qaSV1_J4"
      },
      "source": [
        "#### Q4-What are the main cause of flights cancellation and delays among the different airlines?"
      ]
    },
    {
      "cell_type": "markdown",
      "metadata": {
        "id": "ynYNepZk7TKL"
      },
      "source": [
        "Use previous function and visualisation library to reply to this question"
      ]
    },
    {
      "cell_type": "code",
      "execution_count": null,
      "metadata": {
        "id": "xs9GAb571_J5"
      },
      "outputs": [],
      "source": [
        "#put you code below:\n"
      ]
    }
  ],
  "metadata": {
    "colab": {
      "provenance": [],
      "include_colab_link": true
    },
    "kernelspec": {
      "display_name": "Python 3.9.10 64-bit ('3.9.10')",
      "language": "python",
      "name": "python3"
    },
    "language_info": {
      "codemirror_mode": {
        "name": "ipython",
        "version": 3
      },
      "file_extension": ".py",
      "mimetype": "text/x-python",
      "name": "python",
      "nbconvert_exporter": "python",
      "pygments_lexer": "ipython3",
      "version": "3.9.10"
    },
    "orig_nbformat": 4,
    "vscode": {
      "interpreter": {
        "hash": "606883ea077096275dbc91aa187651e9a95eb2fb9da9bfecb190344ab90fb188"
      }
    }
  },
  "nbformat": 4,
  "nbformat_minor": 0
}